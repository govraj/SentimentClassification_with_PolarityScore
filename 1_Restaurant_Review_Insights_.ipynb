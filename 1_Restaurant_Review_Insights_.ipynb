{
  "nbformat": 4,
  "nbformat_minor": 0,
  "metadata": {
    "colab": {
      "name": "1_Restaurant_Review_Insights..ipynb",
      "provenance": [],
      "collapsed_sections": [],
      "toc_visible": true
    },
    "kernelspec": {
      "name": "python3",
      "display_name": "Python 3"
    }
  },
  "cells": [
    {
      "cell_type": "markdown",
      "metadata": {
        "id": "TpKAg-uYFQR8",
        "colab_type": "text"
      },
      "source": [
        "# Stage1. Import Dependencies."
      ]
    },
    {
      "cell_type": "code",
      "metadata": {
        "id": "07Wg7aWdT1yL",
        "colab_type": "code",
        "colab": {
          "base_uri": "https://localhost:8080/",
          "height": 54
        },
        "outputId": "8776278c-95c7-4d93-d043-bd339d343b49"
      },
      "source": [
        "import pandas as pd\n",
        "import re\n",
        "import seaborn as sns\n",
        "import spacy\n",
        "import nltk\n",
        "nltk.download('wordnet')\n",
        "from spacy import displacy \n",
        "from collections import Counter \n",
        "import en_core_web_sm  \n",
        "nlp = en_core_web_sm.load()"
      ],
      "execution_count": 7,
      "outputs": [
        {
          "output_type": "stream",
          "text": [
            "[nltk_data] Downloading package wordnet to /root/nltk_data...\n",
            "[nltk_data]   Unzipping corpora/wordnet.zip.\n"
          ],
          "name": "stdout"
        }
      ]
    },
    {
      "cell_type": "markdown",
      "metadata": {
        "id": "lwMVe4_hVDSV",
        "colab_type": "text"
      },
      "source": [
        "# Stage2. Data Preparation"
      ]
    },
    {
      "cell_type": "markdown",
      "metadata": {
        "id": "ihoJHTZnpCNO",
        "colab_type": "text"
      },
      "source": [
        "## Load File in df."
      ]
    },
    {
      "cell_type": "code",
      "metadata": {
        "id": "EYIOEkwAVBS4",
        "colab_type": "code",
        "colab": {}
      },
      "source": [
        "df=pd.read_csv('/content/sample_data/Review.csv')"
      ],
      "execution_count": 2,
      "outputs": []
    },
    {
      "cell_type": "code",
      "metadata": {
        "id": "UDxQTOnHVMpr",
        "colab_type": "code",
        "colab": {
          "base_uri": "https://localhost:8080/",
          "height": 206
        },
        "outputId": "88ebd3bc-d7d1-4f10-902b-ed5576428d43"
      },
      "source": [
        "df.head()"
      ],
      "execution_count": 3,
      "outputs": [
        {
          "output_type": "execute_result",
          "data": {
            "text/html": [
              "<div>\n",
              "<style scoped>\n",
              "    .dataframe tbody tr th:only-of-type {\n",
              "        vertical-align: middle;\n",
              "    }\n",
              "\n",
              "    .dataframe tbody tr th {\n",
              "        vertical-align: top;\n",
              "    }\n",
              "\n",
              "    .dataframe thead th {\n",
              "        text-align: right;\n",
              "    }\n",
              "</style>\n",
              "<table border=\"1\" class=\"dataframe\">\n",
              "  <thead>\n",
              "    <tr style=\"text-align: right;\">\n",
              "      <th></th>\n",
              "      <th>Restaurant</th>\n",
              "      <th>description</th>\n",
              "    </tr>\n",
              "  </thead>\n",
              "  <tbody>\n",
              "    <tr>\n",
              "      <th>0</th>\n",
              "      <td>Fable</td>\n",
              "      <td>Recommendations below!\\n100% make reservation\\...</td>\n",
              "    </tr>\n",
              "    <tr>\n",
              "      <th>1</th>\n",
              "      <td>Fable</td>\n",
              "      <td>I couldn't ask for more on a slow night at the...</td>\n",
              "    </tr>\n",
              "    <tr>\n",
              "      <th>2</th>\n",
              "      <td>Fable</td>\n",
              "      <td>Whoa! It's been a while .\\nAnd the wait was wo...</td>\n",
              "    </tr>\n",
              "    <tr>\n",
              "      <th>3</th>\n",
              "      <td>Fable</td>\n",
              "      <td>Came here for a brunch date on a Saturday arou...</td>\n",
              "    </tr>\n",
              "    <tr>\n",
              "      <th>4</th>\n",
              "      <td>Fable</td>\n",
              "      <td>There are many brunch spots on this stretch of...</td>\n",
              "    </tr>\n",
              "  </tbody>\n",
              "</table>\n",
              "</div>"
            ],
            "text/plain": [
              "  Restaurant                                        description\n",
              "0      Fable  Recommendations below!\\n100% make reservation\\...\n",
              "1      Fable  I couldn't ask for more on a slow night at the...\n",
              "2      Fable  Whoa! It's been a while .\\nAnd the wait was wo...\n",
              "3      Fable  Came here for a brunch date on a Saturday arou...\n",
              "4      Fable  There are many brunch spots on this stretch of..."
            ]
          },
          "metadata": {
            "tags": []
          },
          "execution_count": 3
        }
      ]
    },
    {
      "cell_type": "markdown",
      "metadata": {
        "id": "Jbwec8ewYh1a",
        "colab_type": "text"
      },
      "source": [
        "## Data Cleaning."
      ]
    },
    {
      "cell_type": "markdown",
      "metadata": {
        "id": "coR5JKItpQd_",
        "colab_type": "text"
      },
      "source": [
        "### Download nlppreprocess to remove stopwords except not,couldn't,wouldn't like words which give meaning to negative review."
      ]
    },
    {
      "cell_type": "code",
      "metadata": {
        "id": "yfPBaRJB3VEF",
        "colab_type": "code",
        "colab": {
          "base_uri": "https://localhost:8080/",
          "height": 110
        },
        "outputId": "f3fd3d15-3b13-4216-bbd9-57f4eb4cea5f"
      },
      "source": [
        "!pip install nlppreprocess"
      ],
      "execution_count": 4,
      "outputs": [
        {
          "output_type": "stream",
          "text": [
            "Collecting nlppreprocess\n",
            "  Downloading https://files.pythonhosted.org/packages/66/8d/3a0584b924248c865a8e7ee04a93175551ebcaf156ee9b73346cd62446e6/nlppreprocess-1.0.2-py3-none-any.whl\n",
            "Installing collected packages: nlppreprocess\n",
            "Successfully installed nlppreprocess-1.0.2\n"
          ],
          "name": "stdout"
        }
      ]
    },
    {
      "cell_type": "code",
      "metadata": {
        "id": "oFAbTPbR8Ury",
        "colab_type": "code",
        "colab": {}
      },
      "source": [
        "from nlppreprocess import NLP\n",
        "obj=NLP(lemmatize=True,lemmatize_method='wordnet')"
      ],
      "execution_count": 8,
      "outputs": []
    },
    {
      "cell_type": "markdown",
      "metadata": {
        "id": "UnyjRzXnppRd",
        "colab_type": "text"
      },
      "source": [
        "### Replace unwanted data."
      ]
    },
    {
      "cell_type": "code",
      "metadata": {
        "id": "7qiGDNHRZuTa",
        "colab_type": "code",
        "colab": {}
      },
      "source": [
        "# Replace unwanted text \\n and punctuations with whitespace\n",
        "df = df.replace(to_replace ='[\\n!\"#$%&()*+,-./:;<=>?@[\\]^_`{|}~]', value = ' ', regex = True) \n",
        "\n",
        "# Convert Review in lower form.\n",
        "df_lower = pd.DataFrame(df.description.str.lower())\n",
        "\n",
        "# update lower data in df\n",
        "df.update(df_lower)\n",
        "\n",
        "#Using pandas library with obj.process to remove stopwords\n",
        "df['description']=df['description'].apply(obj.process)\n"
      ],
      "execution_count": 9,
      "outputs": []
    },
    {
      "cell_type": "markdown",
      "metadata": {
        "id": "7CUYliuuqHNO",
        "colab_type": "text"
      },
      "source": [
        "### Data after cleaning."
      ]
    },
    {
      "cell_type": "code",
      "metadata": {
        "id": "uynHUZ59mGwE",
        "colab_type": "code",
        "colab": {
          "base_uri": "https://localhost:8080/",
          "height": 206
        },
        "outputId": "834ae654-644a-4c3f-8ad5-ea3fa6e42465"
      },
      "source": [
        "df.head()"
      ],
      "execution_count": 10,
      "outputs": [
        {
          "output_type": "execute_result",
          "data": {
            "text/html": [
              "<div>\n",
              "<style scoped>\n",
              "    .dataframe tbody tr th:only-of-type {\n",
              "        vertical-align: middle;\n",
              "    }\n",
              "\n",
              "    .dataframe tbody tr th {\n",
              "        vertical-align: top;\n",
              "    }\n",
              "\n",
              "    .dataframe thead th {\n",
              "        text-align: right;\n",
              "    }\n",
              "</style>\n",
              "<table border=\"1\" class=\"dataframe\">\n",
              "  <thead>\n",
              "    <tr style=\"text-align: right;\">\n",
              "      <th></th>\n",
              "      <th>Restaurant</th>\n",
              "      <th>description</th>\n",
              "    </tr>\n",
              "  </thead>\n",
              "  <tbody>\n",
              "    <tr>\n",
              "      <th>0</th>\n",
              "      <td>Fable</td>\n",
              "      <td>recommendation make reservation pork rib speci...</td>\n",
              "    </tr>\n",
              "    <tr>\n",
              "      <th>1</th>\n",
              "      <td>Fable</td>\n",
              "      <td>could not ask more slow night restaurant they ...</td>\n",
              "    </tr>\n",
              "    <tr>\n",
              "      <th>2</th>\n",
              "      <td>Fable</td>\n",
              "      <td>whoa it s been and wait worth now vegan it s b...</td>\n",
              "    </tr>\n",
              "    <tr>\n",
              "      <th>3</th>\n",
              "      <td>Fable</td>\n",
              "      <td>came brunch date saturday around noon and got ...</td>\n",
              "    </tr>\n",
              "    <tr>\n",
              "      <th>4</th>\n",
              "      <td>Fable</td>\n",
              "      <td>there are many brunch spot stretch th ave and ...</td>\n",
              "    </tr>\n",
              "  </tbody>\n",
              "</table>\n",
              "</div>"
            ],
            "text/plain": [
              "  Restaurant                                        description\n",
              "0      Fable  recommendation make reservation pork rib speci...\n",
              "1      Fable  could not ask more slow night restaurant they ...\n",
              "2      Fable  whoa it s been and wait worth now vegan it s b...\n",
              "3      Fable  came brunch date saturday around noon and got ...\n",
              "4      Fable  there are many brunch spot stretch th ave and ..."
            ]
          },
          "metadata": {
            "tags": []
          },
          "execution_count": 10
        }
      ]
    },
    {
      "cell_type": "markdown",
      "metadata": {
        "id": "LAyAGiNKqXJQ",
        "colab_type": "text"
      },
      "source": [
        "# Stage3. Exploratory Data Analysis."
      ]
    },
    {
      "cell_type": "markdown",
      "metadata": {
        "id": "VhsHQOfisDbv",
        "colab_type": "text"
      },
      "source": [
        "### Visualization of no of restaurant with their review count."
      ]
    },
    {
      "cell_type": "code",
      "metadata": {
        "id": "H40b3GFSVwT3",
        "colab_type": "code",
        "colab": {
          "base_uri": "https://localhost:8080/",
          "height": 297
        },
        "outputId": "875241c9-a9d1-40a9-eb94-e79de1b9600e"
      },
      "source": [
        "sns.countplot(x='Restaurant',data=df)"
      ],
      "execution_count": 11,
      "outputs": [
        {
          "output_type": "execute_result",
          "data": {
            "text/plain": [
              "<matplotlib.axes._subplots.AxesSubplot at 0x7f7c2d127748>"
            ]
          },
          "metadata": {
            "tags": []
          },
          "execution_count": 11
        },
        {
          "output_type": "display_data",
          "data": {
            "image/png": "[encoded data removed]",
            "text/plain": [
              "<Figure size 432x288 with 1 Axes>"
            ]
          },
          "metadata": {
            "tags": [],
            "needs_background": "light"
          }
        }
      ]
    },
    {
      "cell_type": "markdown",
      "metadata": {
        "id": "5xKOV3uSYEMX",
        "colab_type": "text"
      },
      "source": [
        "### we have two Restaurant review data.\n",
        "* Fable : with 600+ Review\n",
        "* Jam Cafe on Beatty : with 1000+ Review"
      ]
    },
    {
      "cell_type": "markdown",
      "metadata": {
        "id": "OFDIYYcAsaSj",
        "colab_type": "text"
      },
      "source": [
        "## Entity Recognition in all review."
      ]
    },
    {
      "cell_type": "code",
      "metadata": {
        "id": "FfS7MGZ5X18b",
        "colab_type": "code",
        "colab": {
          "base_uri": "https://localhost:8080/",
          "height": 55
        },
        "outputId": "9469ee26-20df-4c9d-e37b-5de573256a7d"
      },
      "source": [
        "# Tokenize each row in Review column and assign in list.\n",
        "doc_list=[nlp(each)for each in df['description']]\n",
        "\n",
        "# Total entity labels in Review Data\n",
        "labels = [x.label_ for doc in doc_list for x in doc.ents]\n",
        "c_labels=Counter(labels)\n",
        "print(c_labels)"
      ],
      "execution_count": 12,
      "outputs": [
        {
          "output_type": "stream",
          "text": [
            "Counter({'PERSON': 1194, 'CARDINAL': 861, 'GPE': 742, 'TIME': 700, 'DATE': 666, 'ORG': 573, 'NORP': 469, 'ORDINAL': 280, 'LOC': 67, 'PRODUCT': 63, 'FAC': 53, 'LANGUAGE': 27, 'EVENT': 12, 'QUANTITY': 9, 'MONEY': 6, 'WORK_OF_ART': 4})\n"
          ],
          "name": "stdout"
        }
      ]
    },
    {
      "cell_type": "markdown",
      "metadata": {
        "id": "P4km-g4w-qt0",
        "colab_type": "text"
      },
      "source": [
        "## Create dataframe with entity name and their no of occurance in Review."
      ]
    },
    {
      "cell_type": "code",
      "metadata": {
        "id": "FlWlvq6WswVZ",
        "colab_type": "code",
        "colab": {}
      },
      "source": [
        "d={\"EntityLabel\":[k for k in c_labels.keys()],\"Count\":[v for v in c_labels.values()]}"
      ],
      "execution_count": 13,
      "outputs": []
    },
    {
      "cell_type": "code",
      "metadata": {
        "id": "AhkctHx1tMXn",
        "colab_type": "code",
        "colab": {
          "base_uri": "https://localhost:8080/",
          "height": 206
        },
        "outputId": "7936da19-4a8f-4a83-ff44-42cb2aab4c27"
      },
      "source": [
        "labels_df=pd.DataFrame(d)\n",
        "labels_df.head()"
      ],
      "execution_count": 14,
      "outputs": [
        {
          "output_type": "execute_result",
          "data": {
            "text/html": [
              "<div>\n",
              "<style scoped>\n",
              "    .dataframe tbody tr th:only-of-type {\n",
              "        vertical-align: middle;\n",
              "    }\n",
              "\n",
              "    .dataframe tbody tr th {\n",
              "        vertical-align: top;\n",
              "    }\n",
              "\n",
              "    .dataframe thead th {\n",
              "        text-align: right;\n",
              "    }\n",
              "</style>\n",
              "<table border=\"1\" class=\"dataframe\">\n",
              "  <thead>\n",
              "    <tr style=\"text-align: right;\">\n",
              "      <th></th>\n",
              "      <th>EntityLabel</th>\n",
              "      <th>Count</th>\n",
              "    </tr>\n",
              "  </thead>\n",
              "  <tbody>\n",
              "    <tr>\n",
              "      <th>0</th>\n",
              "      <td>TIME</td>\n",
              "      <td>700</td>\n",
              "    </tr>\n",
              "    <tr>\n",
              "      <th>1</th>\n",
              "      <td>PERSON</td>\n",
              "      <td>1194</td>\n",
              "    </tr>\n",
              "    <tr>\n",
              "      <th>2</th>\n",
              "      <td>ORG</td>\n",
              "      <td>573</td>\n",
              "    </tr>\n",
              "    <tr>\n",
              "      <th>3</th>\n",
              "      <td>DATE</td>\n",
              "      <td>666</td>\n",
              "    </tr>\n",
              "    <tr>\n",
              "      <th>4</th>\n",
              "      <td>NORP</td>\n",
              "      <td>469</td>\n",
              "    </tr>\n",
              "  </tbody>\n",
              "</table>\n",
              "</div>"
            ],
            "text/plain": [
              "  EntityLabel  Count\n",
              "0        TIME    700\n",
              "1      PERSON   1194\n",
              "2         ORG    573\n",
              "3        DATE    666\n",
              "4        NORP    469"
            ]
          },
          "metadata": {
            "tags": []
          },
          "execution_count": 14
        }
      ]
    },
    {
      "cell_type": "markdown",
      "metadata": {
        "id": "jl9j-Waz_hLJ",
        "colab_type": "text"
      },
      "source": [
        "## Visualization of entites with count of words they contain in Review."
      ]
    },
    {
      "cell_type": "code",
      "metadata": {
        "id": "_Fqpw90wudjB",
        "colab_type": "code",
        "colab": {
          "base_uri": "https://localhost:8080/",
          "height": 455
        },
        "outputId": "8b423eec-3dfe-4fba-a5d6-0212bb35602f"
      },
      "source": [
        "from matplotlib import pyplot as plt\n",
        "plt.figure(figsize=(16,7))\n",
        "sns.barplot(x='EntityLabel',y='Count',data=labels_df)"
      ],
      "execution_count": 15,
      "outputs": [
        {
          "output_type": "execute_result",
          "data": {
            "text/plain": [
              "<matplotlib.axes._subplots.AxesSubplot at 0x7f7c2567eb00>"
            ]
          },
          "metadata": {
            "tags": []
          },
          "execution_count": 15
        },
        {
          "output_type": "display_data",
          "data": {
            "image/png": "[encoded data removed]",
            "text/plain": [
              "<Figure size 1152x504 with 1 Axes>"
            ]
          },
          "metadata": {
            "tags": [],
            "needs_background": "light"
          }
        }
      ]
    },
    {
      "cell_type": "markdown",
      "metadata": {
        "id": "Zo8aZLi5_u1i",
        "colab_type": "text"
      },
      "source": [
        "Person, Cardinal, GPE, Time, ORG type words have more occurance in dataset."
      ]
    },
    {
      "cell_type": "code",
      "metadata": {
        "id": "MWUNrByg-aXL",
        "colab_type": "code",
        "colab": {
          "base_uri": "https://localhost:8080/",
          "height": 157
        },
        "outputId": "20d3e998-1700-45af-cf0f-e14ea6338bc2"
      },
      "source": [
        "displacy.render(nlp(str(df['description'][30])), jupyter=True, style='ent') "
      ],
      "execution_count": 16,
      "outputs": [
        {
          "output_type": "display_data",
          "data": {
            "text/html": [
              "<span class=\"tex2jax_ignore\"><div class=\"entities\" style=\"line-height: 2.5; direction: ltr\">went fable \n",
              "<mark class=\"entity\" style=\"background: #bfe1d9; padding: 0.45em 0.6em; margin: 0 0.25em; line-height: 1; border-radius: 0.35em;\">\n",
              "    sunday\n",
              "    <span style=\"font-size: 0.8em; font-weight: bold; line-height: 1; border-radius: 0.35em; text-transform: uppercase; vertical-align: middle; margin-left: 0.5rem\">DATE</span>\n",
              "</mark>\n",
              " \n",
              "<mark class=\"entity\" style=\"background: #bfe1d9; padding: 0.45em 0.6em; margin: 0 0.25em; line-height: 1; border-radius: 0.35em;\">\n",
              "    morning\n",
              "    <span style=\"font-size: 0.8em; font-weight: bold; line-height: 1; border-radius: 0.35em; text-transform: uppercase; vertical-align: middle; margin-left: 0.5rem\">TIME</span>\n",
              "</mark>\n",
              " brunch and not wait table service very very nice and fast definitely fancier brunch place little bit more pricey but they present their food like it s high end restaurant and fable mean farm table which mean they source everything from local farm got farmer muffin which enjoy with side bacon liked their black peppered jam complimented sausage we ll their potato nice and crispy and soft in inside portion are small guy mostly my boyfriend left still hungry felt satisfied not overly full but good enough portion</div></span>"
            ],
            "text/plain": [
              "<IPython.core.display.HTML object>"
            ]
          },
          "metadata": {
            "tags": []
          }
        }
      ]
    },
    {
      "cell_type": "markdown",
      "metadata": {
        "id": "ZPBmTye0sy9Y",
        "colab_type": "text"
      },
      "source": [
        "### Next, we verbatim, extract part-of-speech and lemmatize this sentence."
      ]
    },
    {
      "cell_type": "code",
      "metadata": {
        "id": "zCIm4HOLpl8o",
        "colab_type": "code",
        "colab": {
          "base_uri": "https://localhost:8080/",
          "height": 1000
        },
        "outputId": "d9c7b535-5c88-4307-9fe5-02a18715a591"
      },
      "source": [
        "[(x.orth_,x.pos_, x.lemma_) for x in [y for y in nlp(str(df['description'][7])) if y.pos_ != 'PUNCT']]"
      ],
      "execution_count": 18,
      "outputs": [
        {
          "output_type": "execute_result",
          "data": {
            "text/plain": [
              "[('fable', 'ADJ', 'fable'),\n",
              " ('been', 'AUX', 'be'),\n",
              " ('my', 'DET', '-PRON-'),\n",
              " ('list', 'NOUN', 'list'),\n",
              " ('long', 'ADJ', 'long'),\n",
              " ('time', 'NOUN', 'time'),\n",
              " ('and', 'CCONJ', 'and'),\n",
              " ('i', 'PRON', 'i'),\n",
              " ('m', 'VERB', 'm'),\n",
              " ('disappointed', 'VERB', 'disappoint'),\n",
              " ('taken', 'VERB', 'take'),\n",
              " ('long', 'ADV', 'long'),\n",
              " ('try', 'VERB', 'try'),\n",
              " ('out', 'ADP', 'out'),\n",
              " ('love', 'NOUN', 'love'),\n",
              " ('they', 'PRON', '-PRON-'),\n",
              " ('support', 'VERB', 'support'),\n",
              " ('local', 'ADJ', 'local'),\n",
              " ('farm', 'NOUN', 'farm'),\n",
              " ('and', 'CCONJ', 'and'),\n",
              " ('get', 'AUX', 'get'),\n",
              " ('fresh', 'ADJ', 'fresh'),\n",
              " ('ingredient', 'NOUN', 'ingredient'),\n",
              " ('daily', 'ADJ', 'daily'),\n",
              " ('they', 'PRON', '-PRON-'),\n",
              " ('even', 'ADV', 'even'),\n",
              " ('rooftop', 'VERB', 'rooftop'),\n",
              " ('garden', 'NOUN', 'garden'),\n",
              " ('grow', 'VERB', 'grow'),\n",
              " ('their', 'DET', '-PRON-'),\n",
              " ('ingredient', 'NOUN', 'ingredient'),\n",
              " ('we', 'PRON', '-PRON-'),\n",
              " ('came', 'VERB', 'come'),\n",
              " ('my', 'DET', '-PRON-'),\n",
              " ('birthday', 'NOUN', 'birthday'),\n",
              " ('dinner', 'NOUN', 'dinner'),\n",
              " ('and', 'CCONJ', 'and'),\n",
              " ('greeted', 'VERB', 'greet'),\n",
              " ('quickly', 'ADV', 'quickly'),\n",
              " ('by', 'ADP', 'by'),\n",
              " ('hostess', 'NOUN', 'hostess'),\n",
              " ('they', 'PRON', '-PRON-'),\n",
              " ('open', 'VERB', 'open'),\n",
              " ('kitchen', 'NOUN', 'kitchen'),\n",
              " ('right', 'ADV', 'right'),\n",
              " ('front', 'NOUN', 'front'),\n",
              " ('with', 'ADP', 'with'),\n",
              " ('bar', 'NOUN', 'bar'),\n",
              " ('seating', 'NOUN', 'seating'),\n",
              " ('well', 'ADV', 'well'),\n",
              " ('regular', 'ADJ', 'regular'),\n",
              " ('table', 'NOUN', 'table'),\n",
              " ('in', 'ADP', 'in'),\n",
              " ('back', 'NOUN', 'back'),\n",
              " ('we', 'PRON', '-PRON-'),\n",
              " ('told', 'VERB', 'tell'),\n",
              " ('by', 'ADP', 'by'),\n",
              " ('server', 'NOUN', 'server'),\n",
              " ('their', 'DET', '-PRON-'),\n",
              " ('dish', 'NOUN', 'dish'),\n",
              " ('are', 'AUX', 'be'),\n",
              " ('meant', 'VERB', 'mean'),\n",
              " ('family', 'NOUN', 'family'),\n",
              " ('style', 'NOUN', 'style'),\n",
              " ('which', 'DET', 'which'),\n",
              " ('most', 'ADV', 'most'),\n",
              " ('ideal', 'ADJ', 'ideal'),\n",
              " ('trying', 'VERB', 'try'),\n",
              " ('bit', 'NOUN', 'bit'),\n",
              " ('everything', 'PRON', 'everything'),\n",
              " ('oyster', 'NOUN', 'oyster'),\n",
              " ('fish', 'NOUN', 'fish'),\n",
              " ('chip', 'NOUN', 'chip'),\n",
              " ('each', 'DET', 'each'),\n",
              " ('order', 'NOUN', 'order'),\n",
              " ('only', 'ADV', 'only'),\n",
              " ('piece', 'VERB', 'piece'),\n",
              " ('medium', 'ADJ', 'medium'),\n",
              " ('sized', 'ADJ', 'sized'),\n",
              " ('beer', 'NOUN', 'beer'),\n",
              " ('battered', 'VERB', 'batter'),\n",
              " ('fried', 'VERB', 'fry'),\n",
              " ('oyster', 'PROPN', 'oyster'),\n",
              " ('tartar', 'PROPN', 'tartar'),\n",
              " ('topped', 'VERB', 'top'),\n",
              " ('with', 'ADP', 'with'),\n",
              " ('mini', 'ADJ', 'mini'),\n",
              " ('french', 'ADJ', 'french'),\n",
              " ('fry', 'PROPN', 'fry'),\n",
              " ('perfect', 'VERB', 'perfect'),\n",
              " ('spoonful', 'ADJ', 'spoonful'),\n",
              " ('deliciousness', 'NOUN', 'deliciousness'),\n",
              " ('batter', 'NOUN', 'batter'),\n",
              " ('light', 'NOUN', 'light'),\n",
              " ('and', 'CCONJ', 'and'),\n",
              " ('tartar', 'NOUN', 'tartar'),\n",
              " ('refreshing', 'VERB', 'refresh'),\n",
              " ('balance', 'NOUN', 'balance'),\n",
              " ('rooftop', 'NOUN', 'rooftop'),\n",
              " ('serrano', 'PROPN', 'serrano'),\n",
              " ('pepper', 'NOUN', 'pepper'),\n",
              " ('appy', 'NOUN', 'appy'),\n",
              " ('quite', 'ADV', 'quite'),\n",
              " ('large', 'ADJ', 'large'),\n",
              " ('u', 'NOUN', 'u'),\n",
              " ('there', 'ADV', 'there'),\n",
              " ('about', 'ADP', 'about'),\n",
              " ('small', 'ADJ', 'small'),\n",
              " ('roasted', 'VERB', 'roast'),\n",
              " ('pepper', 'NOUN', 'pepper'),\n",
              " ('in', 'ADP', 'in'),\n",
              " ('white', 'ADJ', 'white'),\n",
              " ('foam', 'NOUN', 'foam'),\n",
              " ('topped', 'VERB', 'top'),\n",
              " ('with', 'ADP', 'with'),\n",
              " ('chicharron', 'PROPN', 'chicharron'),\n",
              " ('spiciness', 'NOUN', 'spiciness'),\n",
              " ('pepper', 'NOUN', 'pepper'),\n",
              " ('are', 'AUX', 'be'),\n",
              " ('always', 'ADV', 'always'),\n",
              " ('surprise', 'ADJ', 'surprise'),\n",
              " ('but', 'CCONJ', 'but'),\n",
              " ('not', 'PART', 'not'),\n",
              " ('worry', 'VERB', 'worry'),\n",
              " ('these', 'DET', 'these'),\n",
              " ('range', 'NOUN', 'range'),\n",
              " ('little', 'ADJ', 'little'),\n",
              " ('sweet', 'ADJ', 'sweet'),\n",
              " ('mildly', 'ADV', 'mildly'),\n",
              " ('spicy', 'ADV', 'spicy'),\n",
              " ('smoked', 'VERB', 'smoke'),\n",
              " ('duck', 'NOUN', 'duck'),\n",
              " ('breast', 'NOUN', 'breast'),\n",
              " ('perfectly', 'ADV', 'perfectly'),\n",
              " ('cooked', 'VERB', 'cook'),\n",
              " ('tender', 'ADJ', 'tender'),\n",
              " ('duck', 'NOUN', 'duck'),\n",
              " ('breast', 'NOUN', 'breast'),\n",
              " ('with', 'ADP', 'with'),\n",
              " ('roasted', 'VERB', 'roast'),\n",
              " ('parsnip', 'PROPN', 'parsnip'),\n",
              " ('duck', 'NOUN', 'duck'),\n",
              " ('confit', 'NOUN', 'confit'),\n",
              " ('croquette', 'PROPN', 'croquette'),\n",
              " ('and', 'CCONJ', 'and'),\n",
              " ('cabbage', 'NOUN', 'cabbage'),\n",
              " ('croquette', 'NOUN', 'croquette'),\n",
              " ('tasted', 'VERB', 'taste'),\n",
              " ('more', 'ADV', 'more'),\n",
              " ('like', 'SCONJ', 'like'),\n",
              " ('carrot', 'NOUN', 'carrot'),\n",
              " ('potato', 'NOUN', 'potato'),\n",
              " ('croquette', 'PROPN', 'croquette'),\n",
              " ('however', 'ADV', 'however'),\n",
              " ('bc', 'PROPN', 'bc'),\n",
              " ('halibut', 'PROPN', 'halibut'),\n",
              " ('with', 'ADP', 'with'),\n",
              " ('short', 'ADJ', 'short'),\n",
              " ('rib', 'PROPN', 'rib'),\n",
              " ('pea', 'PROPN', 'pea'),\n",
              " ('risotto', 'PROPN', 'risotto'),\n",
              " ('miso', 'PROPN', 'miso'),\n",
              " ('and', 'CCONJ', 'and'),\n",
              " ('halibut', 'PROPN', 'halibut'),\n",
              " ('dashi', 'PROPN', 'dashi'),\n",
              " ('dish', 'PROPN', 'dish'),\n",
              " ('my', 'DET', '-PRON-'),\n",
              " ('least', 'ADV', 'least'),\n",
              " ('favourite', 'ADJ', 'favourite'),\n",
              " ('because', 'SCONJ', 'because'),\n",
              " ('halibut', 'PROPN', 'halibut'),\n",
              " ('overcooked', 'VERB', 'overcook'),\n",
              " ('halibut', 'PROPN', 'halibut'),\n",
              " ('pan', 'PROPN', 'pan'),\n",
              " ('fried', 'VERB', 'fry'),\n",
              " ('leaving', 'VERB', 'leave'),\n",
              " ('outside', 'ADP', 'outside'),\n",
              " ('crispy', 'NOUN', 'crispy'),\n",
              " ('but', 'CCONJ', 'but'),\n",
              " ('inside', 'ADV', 'inside'),\n",
              " ('dry', 'ADJ', 'dry'),\n",
              " ('there', 'ADV', 'there'),\n",
              " ('only', 'ADJ', 'only'),\n",
              " ('few', 'ADJ', 'few'),\n",
              " ('small', 'ADJ', 'small'),\n",
              " ('piece', 'NOUN', 'piece'),\n",
              " ('short', 'ADJ', 'short'),\n",
              " ('rib', 'NOUN', 'rib'),\n",
              " ('but', 'CCONJ', 'but'),\n",
              " ('they', 'PRON', '-PRON-'),\n",
              " ('quite', 'ADV', 'quite'),\n",
              " ('tender', 'VERB', 'tender'),\n",
              " ('pea', 'NOUN', 'pea'),\n",
              " ('risotto', 'NOUN', 'risotto'),\n",
              " ('with', 'ADP', 'with'),\n",
              " ('dashi', 'PROPN', 'dashi'),\n",
              " ('tasty', 'ADJ', 'tasty'),\n",
              " ('even', 'ADV', 'even'),\n",
              " ('with', 'ADP', 'with'),\n",
              " ('many', 'ADJ', 'many'),\n",
              " ('pea', 'NOUN', 'pea'),\n",
              " ('in', 'ADP', 'in'),\n",
              " ('overall', 'ADJ', 'overall'),\n",
              " ('wonderful', 'ADJ', 'wonderful'),\n",
              " ('birthday', 'NOUN', 'birthday'),\n",
              " ('dinner', 'NOUN', 'dinner')]"
            ]
          },
          "metadata": {
            "tags": []
          },
          "execution_count": 18
        }
      ]
    },
    {
      "cell_type": "markdown",
      "metadata": {
        "id": "v70klwClIif-",
        "colab_type": "text"
      },
      "source": [
        "# Stage4. Save Clean Review corpus as CSV."
      ]
    },
    {
      "cell_type": "code",
      "metadata": {
        "id": "WoZ5_7eCuXl5",
        "colab_type": "code",
        "colab": {}
      },
      "source": [
        "df.to_csv('Review_Corpus.csv',index=False)"
      ],
      "execution_count": 19,
      "outputs": []
    },
    {
      "cell_type": "markdown",
      "metadata": {
        "id": "39AI9wPmJqFi",
        "colab_type": "text"
      },
      "source": [
        "### Note: Check 2_Sentiment_Categorization_with_PolarityScore.ipynb"
      ]
    }
  ]
}