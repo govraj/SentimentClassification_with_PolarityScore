{
  "nbformat": 4,
  "nbformat_minor": 0,
  "metadata": {
    "colab": {
      "name": "JsonToCSV.ipynb",
      "provenance": [],
      "collapsed_sections": []
    },
    "kernelspec": {
      "name": "python3",
      "display_name": "Python 3"
    }
  },
  "cells": [
    {
      "cell_type": "markdown",
      "metadata": {
        "id": "Ye47oonlz6J6",
        "colab_type": "text"
      },
      "source": [
        "### Import Dependencies."
      ]
    },
    {
      "cell_type": "code",
      "metadata": {
        "id": "oCHCMowkfd1D",
        "colab_type": "code",
        "colab": {}
      },
      "source": [
        "import json\n",
        "import pandas as pd\n",
        "import numpy as np"
      ],
      "execution_count": 1,
      "outputs": []
    },
    {
      "cell_type": "markdown",
      "metadata": {
        "id": "5NbwFCtSz_65",
        "colab_type": "text"
      },
      "source": [
        "### Open the json file"
      ]
    },
    {
      "cell_type": "code",
      "metadata": {
        "id": "Fzsn-5mpgJMC",
        "colab_type": "code",
        "colab": {}
      },
      "source": [
        "# open the json file\n",
        "f=open('data.json') "
      ],
      "execution_count": 4,
      "outputs": []
    },
    {
      "cell_type": "markdown",
      "metadata": {
        "id": "JHSEs3Ql0JbE",
        "colab_type": "text"
      },
      "source": [
        "### Convert file in json object."
      ]
    },
    {
      "cell_type": "code",
      "metadata": {
        "id": "WyCjkIJzgdn3",
        "colab_type": "code",
        "colab": {}
      },
      "source": [
        "# Return JSON object as a dictionary\n",
        "data=json.load(f)"
      ],
      "execution_count": 5,
      "outputs": []
    },
    {
      "cell_type": "markdown",
      "metadata": {
        "id": "YVnN9DYI0WPr",
        "colab_type": "text"
      },
      "source": [
        "#Create a function to convert json object in dataframe."
      ]
    },
    {
      "cell_type": "code",
      "metadata": {
        "id": "Le6FebeR51Yc",
        "colab_type": "code",
        "colab": {}
      },
      "source": [
        "def json_to_df(data):\n",
        "  \"\"\"\n",
        "  This is a function which take json obejct and \n",
        "  convert and return that in DataFrame.\n",
        "  \"\"\"\n",
        "  Dict={}\n",
        "  # First seperation of data\n",
        "  for kk, vv in data.items():\n",
        "    for each in vv:\n",
        "      for k,v in each.items():\n",
        "        review=v[8]\n",
        "        # Second seperation of data      \n",
        "        for k1,v1 in review.items():  \n",
        "          review1=v1\n",
        "          # each row data seperation from key,value form.\n",
        "          for each1 in review1:\n",
        "            # if Restaurant key is not id dict add with list value or append value in list\n",
        "            if 'Restaurant' not in Dict.keys():\n",
        "              Dict['Restaurant']=[k]\n",
        "            else:\n",
        "              Dict['Restaurant'].append(k)\n",
        "            # Access each element.\n",
        "            for key,value in each1.items():\n",
        "              if key not in Dict.keys():\n",
        "                if key!='reviewRating':\n",
        "                  Dict[key]=[value]\n",
        "                else:\n",
        "                  Dict[key]=[value['ratingValue']]\n",
        "              else:\n",
        "                if key!='reviewRating':\n",
        "                  Dict[key].append(value)\n",
        "                else:\n",
        "                  Dict[key].append(value['ratingValue'])\n",
        "\n",
        "  # Now we have dictionary with key and their value in list form\n",
        "  # Now we will convert dict to dataframe.\n",
        "  df=pd.DataFrame(data=Dict)    \n",
        "  return df\n",
        "\n"
      ],
      "execution_count": 60,
      "outputs": []
    },
    {
      "cell_type": "markdown",
      "metadata": {
        "id": "XSp6AsqQ0ff6",
        "colab_type": "text"
      },
      "source": [
        "## Call the function and get dataframe."
      ]
    },
    {
      "cell_type": "code",
      "metadata": {
        "id": "k-flauhpx6eQ",
        "colab_type": "code",
        "colab": {
          "base_uri": "https://localhost:8080/",
          "height": 206
        },
        "outputId": "ba2aee5c-700c-4344-8154-d421ef697180"
      },
      "source": [
        "# Call the json_to_DataFrame with json object data and get df in newDF.\n",
        "newDF=json_to_df(data)\n",
        "newDF.head()"
      ],
      "execution_count": 62,
      "outputs": [
        {
          "output_type": "execute_result",
          "data": {
            "text/html": [
              "<div>\n",
              "<style scoped>\n",
              "    .dataframe tbody tr th:only-of-type {\n",
              "        vertical-align: middle;\n",
              "    }\n",
              "\n",
              "    .dataframe tbody tr th {\n",
              "        vertical-align: top;\n",
              "    }\n",
              "\n",
              "    .dataframe thead th {\n",
              "        text-align: right;\n",
              "    }\n",
              "</style>\n",
              "<table border=\"1\" class=\"dataframe\">\n",
              "  <thead>\n",
              "    <tr style=\"text-align: right;\">\n",
              "      <th></th>\n",
              "      <th>Restaurant</th>\n",
              "      <th>reviewRating</th>\n",
              "      <th>datePublished</th>\n",
              "      <th>description</th>\n",
              "      <th>author</th>\n",
              "    </tr>\n",
              "  </thead>\n",
              "  <tbody>\n",
              "    <tr>\n",
              "      <th>0</th>\n",
              "      <td>Fable</td>\n",
              "      <td>5</td>\n",
              "      <td>2020-03-16</td>\n",
              "      <td>Recommendations below!\\n100% make reservation\\...</td>\n",
              "      <td>Jennifer E.</td>\n",
              "    </tr>\n",
              "    <tr>\n",
              "      <th>1</th>\n",
              "      <td>Fable</td>\n",
              "      <td>4</td>\n",
              "      <td>2020-08-12</td>\n",
              "      <td>I couldn't ask for more on a slow night at the...</td>\n",
              "      <td>Manbir R.</td>\n",
              "    </tr>\n",
              "    <tr>\n",
              "      <th>2</th>\n",
              "      <td>Fable</td>\n",
              "      <td>5</td>\n",
              "      <td>2020-02-24</td>\n",
              "      <td>Whoa! It's been a while .\\nAnd the wait was wo...</td>\n",
              "      <td>Mrs H.</td>\n",
              "    </tr>\n",
              "    <tr>\n",
              "      <th>3</th>\n",
              "      <td>Fable</td>\n",
              "      <td>4</td>\n",
              "      <td>2019-11-12</td>\n",
              "      <td>Came here for a brunch date on a Saturday arou...</td>\n",
              "      <td>Candace H.</td>\n",
              "    </tr>\n",
              "    <tr>\n",
              "      <th>4</th>\n",
              "      <td>Fable</td>\n",
              "      <td>4</td>\n",
              "      <td>2019-09-08</td>\n",
              "      <td>There are many brunch spots on this stretch of...</td>\n",
              "      <td>Abigail S.</td>\n",
              "    </tr>\n",
              "  </tbody>\n",
              "</table>\n",
              "</div>"
            ],
            "text/plain": [
              "  Restaurant  ...       author\n",
              "0      Fable  ...  Jennifer E.\n",
              "1      Fable  ...    Manbir R.\n",
              "2      Fable  ...       Mrs H.\n",
              "3      Fable  ...   Candace H.\n",
              "4      Fable  ...   Abigail S.\n",
              "\n",
              "[5 rows x 5 columns]"
            ]
          },
          "metadata": {
            "tags": []
          },
          "execution_count": 62
        }
      ]
    },
    {
      "cell_type": "markdown",
      "metadata": {
        "id": "Fd7DBwqmC5JQ",
        "colab_type": "text"
      },
      "source": [
        "## Drop Unwanted column in df."
      ]
    },
    {
      "cell_type": "code",
      "metadata": {
        "id": "PaPbZVJfDB4g",
        "colab_type": "code",
        "colab": {
          "base_uri": "https://localhost:8080/",
          "height": 206
        },
        "outputId": "f29379b8-34a8-4ca5-c2c7-37b5d9ec4ac0"
      },
      "source": [
        "df=newDF[['Restaurant','description']]\n",
        "df.head()"
      ],
      "execution_count": 64,
      "outputs": [
        {
          "output_type": "execute_result",
          "data": {
            "text/html": [
              "<div>\n",
              "<style scoped>\n",
              "    .dataframe tbody tr th:only-of-type {\n",
              "        vertical-align: middle;\n",
              "    }\n",
              "\n",
              "    .dataframe tbody tr th {\n",
              "        vertical-align: top;\n",
              "    }\n",
              "\n",
              "    .dataframe thead th {\n",
              "        text-align: right;\n",
              "    }\n",
              "</style>\n",
              "<table border=\"1\" class=\"dataframe\">\n",
              "  <thead>\n",
              "    <tr style=\"text-align: right;\">\n",
              "      <th></th>\n",
              "      <th>Restaurant</th>\n",
              "      <th>description</th>\n",
              "    </tr>\n",
              "  </thead>\n",
              "  <tbody>\n",
              "    <tr>\n",
              "      <th>0</th>\n",
              "      <td>Fable</td>\n",
              "      <td>Recommendations below!\\n100% make reservation\\...</td>\n",
              "    </tr>\n",
              "    <tr>\n",
              "      <th>1</th>\n",
              "      <td>Fable</td>\n",
              "      <td>I couldn't ask for more on a slow night at the...</td>\n",
              "    </tr>\n",
              "    <tr>\n",
              "      <th>2</th>\n",
              "      <td>Fable</td>\n",
              "      <td>Whoa! It's been a while .\\nAnd the wait was wo...</td>\n",
              "    </tr>\n",
              "    <tr>\n",
              "      <th>3</th>\n",
              "      <td>Fable</td>\n",
              "      <td>Came here for a brunch date on a Saturday arou...</td>\n",
              "    </tr>\n",
              "    <tr>\n",
              "      <th>4</th>\n",
              "      <td>Fable</td>\n",
              "      <td>There are many brunch spots on this stretch of...</td>\n",
              "    </tr>\n",
              "  </tbody>\n",
              "</table>\n",
              "</div>"
            ],
            "text/plain": [
              "  Restaurant                                        description\n",
              "0      Fable  Recommendations below!\\n100% make reservation\\...\n",
              "1      Fable  I couldn't ask for more on a slow night at the...\n",
              "2      Fable  Whoa! It's been a while .\\nAnd the wait was wo...\n",
              "3      Fable  Came here for a brunch date on a Saturday arou...\n",
              "4      Fable  There are many brunch spots on this stretch of..."
            ]
          },
          "metadata": {
            "tags": []
          },
          "execution_count": 64
        }
      ]
    },
    {
      "cell_type": "markdown",
      "metadata": {
        "id": "6cff-FFh0nGL",
        "colab_type": "text"
      },
      "source": [
        "## Save dataframe as csv file."
      ]
    },
    {
      "cell_type": "code",
      "metadata": {
        "id": "QSPRI8TpyNcs",
        "colab_type": "code",
        "colab": {}
      },
      "source": [
        "# Save DataFrame as CSV.\n",
        "df.to_csv('Review.csv',index=False)"
      ],
      "execution_count": 65,
      "outputs": []
    }
  ]
}